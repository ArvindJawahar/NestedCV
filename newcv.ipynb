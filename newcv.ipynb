{
 "cells": [
  {
   "cell_type": "code",
   "execution_count": 15,
   "id": "b947ccc1",
   "metadata": {},
   "outputs": [],
   "source": [
    "from sklearn.model_selection import KFold\n",
    "import pandas as pd\n",
    "from types import GeneratorType\n",
    "\n",
    "class NestedCV:\n",
    "    def __init__(self, n_splits=5, shuffle=True, random_state=None):\n",
    "        self.n_splits = n_splits\n",
    "        self.shuffle = shuffle\n",
    "        self.random_state = random_state\n",
    "\n",
    "    def split(self, X, y=None):\n",
    "        outer_cv = KFold(n_splits=self.n_splits, shuffle=self.shuffle, random_state=self.random_state)\n",
    "        for train_idx, test_idx in outer_cv.split(X):\n",
    "            yield train_idx, test_idx\n",
    "\n",
    "    def get_n_splits(self, X, y=None, groups=None):\n",
    "        return self.n_splits\n",
    "\n",
    "if __name__ == \"__main__\":\n",
    "    # Load dataset\n",
    "    data = pd.read_csv(r\"F:\\Assessment IQGateway\\New folder\\Processed data\\newtrain_df.csv\")\n",
    "\n",
    "    # Nested cv\n",
    "    k = 3\n",
    "    cv = NestedCV(k)\n",
    "    splits = cv.split(data)\n",
    "\n",
    "    # Check return type\n",
    "    assert isinstance(splits, GeneratorType)\n",
    "\n",
    "    # Check return types, shapes, and data leaks\n",
    "    count = 0\n",
    "    for train_idx, validate_idx in splits:\n",
    "        train = data.iloc[train_idx]\n",
    "        validate = data.iloc[validate_idx]\n",
    "\n",
    "        # Convert train and validate to DataFrames\n",
    "        train = pd.DataFrame(train)\n",
    "        validate = pd.DataFrame(validate)\n",
    "\n",
    "        # Types\n",
    "        assert isinstance(train, pd.DataFrame)\n",
    "        assert isinstance(validate, pd.DataFrame)\n",
    "\n",
    "        # Shape\n",
    "        assert train.shape[1] == validate.shape[1]\n",
    "\n",
    "        count += 1\n",
    "\n",
    "    # Check number of splits returned\n",
    "    assert count == k\n"
   ]
  },
  {
   "cell_type": "code",
   "execution_count": 18,
   "id": "b3f73bca",
   "metadata": {},
   "outputs": [
    {
     "name": "stderr",
     "output_type": "stream",
     "text": [
      "[NbConvertApp] Converting notebook newcv.ipynb to script\n",
      "[NbConvertApp] Writing 1606 bytes to newcv.py\n"
     ]
    }
   ],
   "source": [
    "#  !jupyter nbconvert --to script newcv.ipynb"
   ]
  },
  {
   "cell_type": "code",
   "execution_count": null,
   "id": "9921f290",
   "metadata": {},
   "outputs": [],
   "source": []
  }
 ],
 "metadata": {
  "kernelspec": {
   "display_name": "Python 3 (ipykernel)",
   "language": "python",
   "name": "python3"
  },
  "language_info": {
   "codemirror_mode": {
    "name": "ipython",
    "version": 3
   },
   "file_extension": ".py",
   "mimetype": "text/x-python",
   "name": "python",
   "nbconvert_exporter": "python",
   "pygments_lexer": "ipython3",
   "version": "3.11.4"
  }
 },
 "nbformat": 4,
 "nbformat_minor": 5
}
